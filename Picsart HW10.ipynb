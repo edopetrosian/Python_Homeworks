{
 "cells": [
  {
   "cell_type": "code",
   "execution_count": 9,
   "metadata": {},
   "outputs": [
    {
     "data": {
      "text/plain": [
       "[1.6, 2.55, 3.555, 4.5556]"
      ]
     },
     "execution_count": 9,
     "metadata": {},
     "output_type": "execute_result"
    }
   ],
   "source": [
    "def my_map(func, *iterables):\n",
    "    try:\n",
    "        length = len(iterables[0])\n",
    "        for i in range(length):\n",
    "            lst = []\n",
    "            for iter in iterables:\n",
    "                lst.append(iter[i])\n",
    "            yield func(*lst)\n",
    "    except:\n",
    "        raise Exception(\"Wrong arguments\")\n",
    "\n",
    "        \n",
    "\n",
    "deci_numbers = [1.56,2.552,3.55455,4.55564]\n",
    "list(my_map(round,deci_numbers, range(1,5)))"
   ]
  },
  {
   "cell_type": "code",
   "execution_count": 15,
   "metadata": {},
   "outputs": [
    {
     "name": "stdout",
     "output_type": "stream",
     "text": [
      "1 2 3 4\n"
     ]
    }
   ],
   "source": [
    "def reduce(func, iterable, default = None):\n",
    "    it = iter(iterable)\n",
    "    if default is None:\n",
    "        value = next(it)\n",
    "    else:\n",
    "        value = default\n",
    "    for i in it:\n",
    "        value = func(i,value)\n",
    "    return value\n",
    "\n",
    "lst = [1,2,3,4,5,6,7]\n",
    "reduce(lambda x,y: x if x > y else y, lst, 10)\n",
    "   "
   ]
  },
  {
   "cell_type": "code",
   "execution_count": 22,
   "metadata": {},
   "outputs": [
    {
     "data": {
      "text/plain": [
       "2"
      ]
     },
     "execution_count": 22,
     "metadata": {},
     "output_type": "execute_result"
    }
   ],
   "source": [
    "def my_range(*args):\n",
    "    def ran(start, stop, step):\n",
    "        count = start\n",
    "        while count != stop:\n",
    "            yield count\n",
    "            count += step\n",
    "    if len(args) == 3:\n",
    "        return ran(*args)\n",
    "    elif len(args) == 2:\n",
    "        return ran(*args, step = 1)\n",
    "    elif len(args) == 1:\n",
    "        return ran(start = 0,stop = args[0], step = 1)\n",
    "    else:\n",
    "        raise Exception(\"Invalid arguments\")\n",
    "\n",
    "x = my_range(3)\n",
    "\n",
    "next(iter(x))\n",
    "next(iter(x))\n",
    "next(iter(x))\n"
   ]
  },
  {
   "cell_type": "code",
   "execution_count": 27,
   "metadata": {},
   "outputs": [
    {
     "name": "stdout",
     "output_type": "stream",
     "text": [
      "3\n",
      "4\n",
      "5\n"
     ]
    }
   ],
   "source": [
    "class MyIterable:\n",
    "    def __init__(self, iterable):\n",
    "        self._iterable = iterable\n",
    "        self._index = 0\n",
    "\n",
    "    def __iter__(self):\n",
    "        return self\n",
    "    \n",
    "    def __next__(self):\n",
    "        if self._index < len(self._iterable):\n",
    "            self._current = self._iterable[self._index]\n",
    "            self._index += 1\n",
    "            return self._current\n",
    "        raise StopIteration\n",
    "    \n",
    "lst = [1,2,3,4,5]\n",
    "myiter = MyIterable(lst)\n",
    "myiter.__next__()\n",
    "myiter.__next__()\n",
    "for i in myiter:\n",
    "    print(i)\n",
    "\n"
   ]
  },
  {
   "cell_type": "code",
   "execution_count": 30,
   "metadata": {},
   "outputs": [
    {
     "data": {
      "text/plain": [
       "<generator object for_in at 0x00000170AD630C80>"
      ]
     },
     "execution_count": 30,
     "metadata": {},
     "output_type": "execute_result"
    }
   ],
   "source": [
    "def for_in(iterable):\n",
    "    it  = iter(iterable)\n",
    "    while True:\n",
    "        try:\n",
    "            item = next(it)\n",
    "            print(item)\n",
    "        except:\n",
    "            break\n",
    "        \n",
    "\n",
    "lst = [1,2,3,4,5]  \n",
    "for_in(lst)"
   ]
  }
 ],
 "metadata": {
  "kernelspec": {
   "display_name": "Python 3",
   "language": "python",
   "name": "python3"
  },
  "language_info": {
   "codemirror_mode": {
    "name": "ipython",
    "version": 3
   },
   "file_extension": ".py",
   "mimetype": "text/x-python",
   "name": "python",
   "nbconvert_exporter": "python",
   "pygments_lexer": "ipython3",
   "version": "3.9.13"
  },
  "orig_nbformat": 4
 },
 "nbformat": 4,
 "nbformat_minor": 2
}
