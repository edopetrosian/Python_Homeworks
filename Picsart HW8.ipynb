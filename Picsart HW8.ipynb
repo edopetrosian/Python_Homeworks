{
 "cells": [
  {
   "cell_type": "code",
   "execution_count": null,
   "metadata": {},
   "outputs": [],
   "source": [
    "def Missing_num(lst):\n",
    "    for i in range(max(lst)):\n",
    "        if i + 1 not in lst:\n",
    "            return f\"Missing  number is {i+1}\"\n",
    "    return f\"Missing  number is {len(lst)}\"\n",
    "\n",
    "lst = [8, 3, 6, 1, 2, 4, 5]\n",
    "Missing_num(lst)"
   ]
  },
  {
   "cell_type": "code",
   "execution_count": null,
   "metadata": {},
   "outputs": [],
   "source": [
    "def Add_Exictment(lst):\n",
    "    for i in range(len(lst)):\n",
    "        lst[i] += '!'\n",
    "    return \n",
    "\n",
    "lst = ['hello', 'world', 'bye']\n",
    "Add_Exictment(lst)\n",
    "lst"
   ]
  },
  {
   "cell_type": "code",
   "execution_count": null,
   "metadata": {},
   "outputs": [],
   "source": [
    "def Sum_digits(n):\n",
    "    sum = 0\n",
    "    while n % 10 != n:\n",
    "        sum +=  n % 10\n",
    "        n //= 10\n",
    "    sum += n\n",
    "    return sum\n",
    "\n",
    "\n",
    "Sum_digits(235)\n"
   ]
  },
  {
   "cell_type": "code",
   "execution_count": null,
   "metadata": {},
   "outputs": [],
   "source": [
    "def is_sorted(lst):\n",
    "    def is_sorted_asc(lst):\n",
    "        p = 0\n",
    "        while p != len(lst) - 2:\n",
    "            if lst[p + 1] < lst[p]:\n",
    "                return False\n",
    "            p += 1\n",
    "        return True\n",
    "    if is_sorted_asc(lst) or is_sorted_asc(lst[::-1]):\n",
    "        return True\n",
    "    return False\n",
    "\n",
    "lst = [1, 4, 5, 4, 8]\n",
    "is_sorted(lst)"
   ]
  },
  {
   "cell_type": "code",
   "execution_count": null,
   "metadata": {},
   "outputs": [],
   "source": [
    "def merge_lists(lst1, lst2):\n",
    "    for i in lst1:\n",
    "        if i == 0:\n",
    "            lst1 = lst1[1:]\n",
    "    for i in lst2:\n",
    "        if i == 0:\n",
    "            lst2 = lst2[1:]\n",
    "\n",
    "    n = len(lst1) - 1\n",
    "    m = len(lst2) - 1\n",
    "    lst = (m + n + 2) * [0]\n",
    "    while m != -1 and n != -1:\n",
    "        if lst1[n] >= lst2[m]:\n",
    "           lst[m + n + 1] = lst1[n]\n",
    "           n -=1   \n",
    "        else:\n",
    "            lst[m + n + 1] = lst2[m]\n",
    "            m -= 1\n",
    "    if m == -1:\n",
    "        while n != -1:\n",
    "            lst[n] = lst1[n]\n",
    "            n -= 1\n",
    "    else:\n",
    "        while m != -1:\n",
    "            lst[m] = lst2[m]\n",
    "            m -= 1\n",
    "\n",
    "    return lst\n",
    "\n",
    "\n",
    "lst1 = [0, 0, 0, 1, 2, 3, 4, 4]\n",
    "lst2 = [3, 4, 5, 6]\n",
    "\n",
    "merge_lists(lst1, lst2)\n",
    "\n"
   ]
  }
 ],
 "metadata": {
  "kernelspec": {
   "display_name": "Python 3",
   "language": "python",
   "name": "python3"
  },
  "language_info": {
   "codemirror_mode": {
    "name": "ipython",
    "version": 3
   },
   "file_extension": ".py",
   "mimetype": "text/x-python",
   "name": "python",
   "nbconvert_exporter": "python",
   "pygments_lexer": "ipython3",
   "version": "3.9.13"
  },
  "orig_nbformat": 4,
  "vscode": {
   "interpreter": {
    "hash": "497338f01161d141240caa60efca5087225791fadc9b7c964beb65d863e046f0"
   }
  }
 },
 "nbformat": 4,
 "nbformat_minor": 2
}
