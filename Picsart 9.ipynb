{
 "cells": [
  {
   "cell_type": "code",
   "execution_count": null,
   "metadata": {},
   "outputs": [],
   "source": [
    "def rec_fac(n: int) -> int:\n",
    "    try:\n",
    "        if n == 1 or n == 0:\n",
    "            return 1\n",
    "        elif n > 1:\n",
    "            return n * rec_fac(n-1)\n",
    "        else:\n",
    "            return \"Cant calculate factorial of negative integer\"\n",
    "    except TypeError:\n",
    "        return \"Type of argument not supported\"\n",
    "\n",
    "print(rec_fac(5))\n",
    "print(rec_fac('str'))\n",
    "     \n"
   ]
  },
  {
   "cell_type": "code",
   "execution_count": null,
   "metadata": {},
   "outputs": [],
   "source": [
    "def Enumerate(iter_ob, start = 0):\n",
    "    try:\n",
    "        lst = []\n",
    "        for i in range(start, len(iter_ob)):\n",
    "            lst.append((i, iter_ob[i]))\n",
    "        return lst\n",
    "    \n",
    "    except TypeError:\n",
    "        return \"The argument is not iterable\"\n",
    "    \n",
    "iter_ob = \"string\"\n",
    "Enumerate(iter_ob, start = 2)"
   ]
  },
  {
   "cell_type": "code",
   "execution_count": null,
   "metadata": {},
   "outputs": [],
   "source": [
    "def Filter(func, objs):\n",
    "    try:\n",
    "        lst = []\n",
    "        for el in objs:\n",
    "            if func(el):\n",
    "                lst.append(el)\n",
    "        return lst\n",
    "    except:\n",
    "        \"The first argument must be function, second iterable\"\n",
    "\n",
    "func = lambda x: x % 2 == 0\n",
    "objs = [1,2,3,4,5,6,7,8,9,10]\n",
    "Filter(func, objs)"
   ]
  },
  {
   "cell_type": "code",
   "execution_count": null,
   "metadata": {},
   "outputs": [],
   "source": [
    "def four_pow(n):\n",
    "    try:\n",
    "        if n == 1:\n",
    "            return True\n",
    "        elif n // 4 != n / 4:\n",
    "            return False\n",
    "        return four_pow(n/4)\n",
    "        \n",
    "    except:\n",
    "        return \"Type of argument not supported\"\n",
    "\n",
    "n = 64\n",
    "four_pow(n)"
   ]
  }
 ],
 "metadata": {
  "kernelspec": {
   "display_name": "Python 3",
   "language": "python",
   "name": "python3"
  },
  "language_info": {
   "codemirror_mode": {
    "name": "ipython",
    "version": 3
   },
   "file_extension": ".py",
   "mimetype": "text/x-python",
   "name": "python",
   "nbconvert_exporter": "python",
   "pygments_lexer": "ipython3",
   "version": "3.9.13"
  },
  "orig_nbformat": 4,
  "vscode": {
   "interpreter": {
    "hash": "497338f01161d141240caa60efca5087225791fadc9b7c964beb65d863e046f0"
   }
  }
 },
 "nbformat": 4,
 "nbformat_minor": 2
}
